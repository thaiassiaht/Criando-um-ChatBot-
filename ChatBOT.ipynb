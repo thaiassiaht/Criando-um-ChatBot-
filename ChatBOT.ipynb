{
  "nbformat": 4,
  "nbformat_minor": 0,
  "metadata": {
    "colab": {
      "provenance": [],
      "authorship_tag": "ABX9TyO+LjKZAICWtS0IrV/kBQCt",
      "include_colab_link": true
    },
    "kernelspec": {
      "name": "python3",
      "display_name": "Python 3"
    },
    "language_info": {
      "name": "python"
    }
  },
  "cells": [
    {
      "cell_type": "markdown",
      "metadata": {
        "id": "view-in-github",
        "colab_type": "text"
      },
      "source": [
        "<a href=\"https://colab.research.google.com/github/thaiassiaht/Criando-um-ChatBot-/blob/main/ChatBOT.ipynb\" target=\"_parent\"><img src=\"https://colab.research.google.com/assets/colab-badge.svg\" alt=\"Open In Colab\"/></a>"
      ]
    },
    {
      "cell_type": "code",
      "execution_count": 19,
      "metadata": {
        "colab": {
          "base_uri": "https://localhost:8080/"
        },
        "id": "Ez0y8YpSO_9B",
        "outputId": "9ae38183-efb2-4d3c-cb46-af09be27a71c"
      },
      "outputs": [
        {
          "output_type": "execute_result",
          "data": {
            "text/plain": [
              "43"
            ]
          },
          "metadata": {},
          "execution_count": 19
        }
      ],
      "source": [
        "import requests\n",
        "\n",
        "url = 'https://raw.githubusercontent.com/guilhermeonrails/api-imersao-ia/main/words.json'\n",
        "\n",
        "\n",
        "resposta = requests.get(url)\n",
        "\n",
        "#Transforma a resposta em JSON\n",
        "data = resposta.json()\n",
        "#Exibindo quantas informações\n",
        "len(data)"
      ]
    },
    {
      "cell_type": "code",
      "source": [
        "import random\n",
        "\n",
        "random.choice(data)"
      ],
      "metadata": {
        "colab": {
          "base_uri": "https://localhost:8080/"
        },
        "id": "RfSiiSC3UY21",
        "outputId": "ccd05fc6-3345-4438-d047-5019f63f97b8"
      },
      "execution_count": null,
      "outputs": [
        {
          "output_type": "execute_result",
          "data": {
            "text/plain": [
              "{'palavra': 'python',\n",
              " 'dica': 'automatizar tarefas e desenvolver aplicações web.'}"
            ]
          },
          "metadata": {},
          "execution_count": 8
        }
      ]
    },
    {
      "cell_type": "code",
      "source": [
        "import random\n",
        "\n",
        "# Variável que armazena tecnologia aleatória da lista\n",
        "valor_secreto = random.choice(data)\n",
        "# Variável para armazenar apenas a palavra\n",
        "palavra_secreta = valor_secreto['palavra']\n",
        "# Variável para armazenar apenas a dica\n",
        "dica = valor_secreto['dica']\n",
        "\n",
        "\n",
        "print(f'A palavra secreta tem {len(palavra_secreta)} letras')\n",
        "print(f'A dica é -> {dica} ')\n",
        "\n",
        "chute = input(\"Seu palpite: \")\n",
        "\n",
        "if (chute == palavra_secreta):\n",
        "  print('Acertou')\n",
        "else:\n",
        "  print(f'Errou, a palavra secreta é {palavra_secreta}')\n",
        "\n"
      ],
      "metadata": {
        "id": "kcZarte3Uj8O",
        "colab": {
          "base_uri": "https://localhost:8080/"
        },
        "outputId": "2700ba1e-bfe2-47b0-e8f7-6a2f53f08f77"
      },
      "execution_count": null,
      "outputs": [
        {
          "output_type": "stream",
          "name": "stdout",
          "text": [
            "A palavra secreta tem 6 letras\n",
            "A dica é -> empacotar, distribuir e executar aplicativos em contêineres. \n"
          ]
        }
      ]
    }
  ]
}